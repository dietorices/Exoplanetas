{
 "cells": [
  {
   "cell_type": "markdown",
   "metadata": {},
   "source": [
    "# Exploración de los datos"
   ]
  },
  {
   "cell_type": "code",
   "execution_count": 38,
   "metadata": {},
   "outputs": [],
   "source": [
    "import numpy as np\n",
    "import pandas as pd\n",
    "import matplotlib\n",
    "import matplotlib.pyplot as plt\n",
    "import seaborn as sns\n",
    "\n"
   ]
  },
  {
   "cell_type": "code",
   "execution_count": null,
   "metadata": {},
   "outputs": [
    {
     "name": "stdout",
     "output_type": "stream",
     "text": [
      "Index(['loc_rowid', 'pl_name', 'hostname', 'pl_letter', 'hd_name', 'hip_name',\n",
      "       'tic_id', 'gaia_id', 'sy_snum', 'sy_pnum',\n",
      "       ...\n",
      "       'sy_icmag', 'sy_tmag', 'sy_kepmag', 'pl_nnotes', 'st_nphot', 'st_nrvc',\n",
      "       'st_nspec', 'pl_nespec', 'pl_ntranspec', 'pl_ndispec'],\n",
      "      dtype='object', length=108)\n",
      "(5830, 108)\n"
     ]
    }
   ],
   "source": [
    "import pandas as pd\n",
    "\n",
    "data_ex = pd.read_csv(\"data/NASA_Exoplanet_Archive.csv\")\n",
    "\n",
    "\n"
   ]
  },
  {
   "cell_type": "code",
   "execution_count": 54,
   "metadata": {},
   "outputs": [
    {
     "data": {
      "text/plain": [
       "Index(['loc_rowid', 'pl_name', 'hostname', 'pl_letter', 'hd_name', 'hip_name',\n",
       "       'tic_id', 'gaia_id', 'sy_snum', 'sy_pnum',\n",
       "       ...\n",
       "       'sy_icmag', 'sy_tmag', 'sy_kepmag', 'pl_nnotes', 'st_nphot', 'st_nrvc',\n",
       "       'st_nspec', 'pl_nespec', 'pl_ntranspec', 'pl_ndispec'],\n",
       "      dtype='object', length=108)"
      ]
     },
     "execution_count": 54,
     "metadata": {},
     "output_type": "execute_result"
    }
   ],
   "source": [
    "data_ex.columns"
   ]
  },
  {
   "cell_type": "code",
   "execution_count": 55,
   "metadata": {},
   "outputs": [
    {
     "data": {
      "text/plain": [
       "(5830, 108)"
      ]
     },
     "execution_count": 55,
     "metadata": {},
     "output_type": "execute_result"
    }
   ],
   "source": [
    "data_ex.shape"
   ]
  },
  {
   "cell_type": "code",
   "execution_count": null,
   "metadata": {},
   "outputs": [
    {
     "name": "stdout",
     "output_type": "stream",
     "text": [
      "<class 'pandas.core.frame.DataFrame'>\n",
      "RangeIndex: 5830 entries, 0 to 5829\n",
      "Columns: 108 entries, loc_rowid to pl_ndispec\n",
      "dtypes: float64(64), int64(24), object(20)\n",
      "memory usage: 4.8+ MB\n"
     ]
    }
   ],
   "source": [
    "data_ex.info()\n",
    "\n"
   ]
  }
 ],
 "metadata": {
  "kernelspec": {
   "display_name": "Python 3",
   "language": "python",
   "name": "python3"
  },
  "language_info": {
   "codemirror_mode": {
    "name": "ipython",
    "version": 3
   },
   "file_extension": ".py",
   "mimetype": "text/x-python",
   "name": "python",
   "nbconvert_exporter": "python",
   "pygments_lexer": "ipython3",
   "version": "3.11.9"
  }
 },
 "nbformat": 4,
 "nbformat_minor": 2
}
